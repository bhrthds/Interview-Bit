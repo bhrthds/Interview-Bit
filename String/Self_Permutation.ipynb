{
  "nbformat": 4,
  "nbformat_minor": 0,
  "metadata": {
    "colab": {
      "name": "Self Permutation.ipynb",
      "provenance": []
    },
    "kernelspec": {
      "name": "python3",
      "display_name": "Python 3"
    },
    "language_info": {
      "name": "python"
    }
  },
  "cells": [
    {
      "cell_type": "code",
      "execution_count": null,
      "metadata": {
        "id": "4quagHU6SLhZ"
      },
      "outputs": [],
      "source": [
        "class Solution:\n",
        "    # @param A : string\n",
        "    # @param B : string\n",
        "    # @return an integer\n",
        "    def permuteStrings(self, A, B):\n",
        "        a = list(A)\n",
        "        b = list(B)\n",
        "        s = 0\n",
        "        for i in a:\n",
        "            if i in b:\n",
        "                s = s+1\n",
        "        if s ==len(B):\n",
        "            return 1\n",
        "        else:\n",
        "            return 0"
      ]
    }
  ]
}