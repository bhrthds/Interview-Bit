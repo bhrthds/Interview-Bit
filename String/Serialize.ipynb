{
  "nbformat": 4,
  "nbformat_minor": 0,
  "metadata": {
    "colab": {
      "name": "Serialize.ipynb",
      "provenance": []
    },
    "kernelspec": {
      "name": "python3",
      "display_name": "Python 3"
    },
    "language_info": {
      "name": "python"
    }
  },
  "cells": [
    {
      "cell_type": "code",
      "execution_count": null,
      "metadata": {
        "id": "4quagHU6SLhZ"
      },
      "outputs": [],
      "source": [
        "class Solution:\n",
        "    # @param A : list of strings\n",
        "    # @return a strings\n",
        "    def serialize(self, A):\n",
        "        s = \"\"\n",
        "        for i in range(len(A)):\n",
        "            s = s + str(A[i])+str(len(A[i]))+\"~\"\n",
        "        return s"
      ]
    }
  ]
}