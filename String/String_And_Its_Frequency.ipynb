{
  "nbformat": 4,
  "nbformat_minor": 0,
  "metadata": {
    "colab": {
      "name": "String And Its Frequency.ipynb",
      "provenance": []
    },
    "kernelspec": {
      "name": "python3",
      "display_name": "Python 3"
    },
    "language_info": {
      "name": "python"
    }
  },
  "cells": [
    {
      "cell_type": "code",
      "execution_count": null,
      "metadata": {
        "id": "4quagHU6SLhZ"
      },
      "outputs": [],
      "source": [
        "from collections import Counter\n",
        "class Solution:\n",
        "    # @param A : string\n",
        "    # @return a strings\n",
        "    def solve(self, A):\n",
        "        a = Counter(A)\n",
        "        aset= []\n",
        "        for i in A:\n",
        "            if i not in aset:\n",
        "                aset.append(i)\n",
        "        l = \"\"\n",
        "        for i in aset:\n",
        "            l = l + i\n",
        "            l = l + str(a[i])\n",
        "        return l"
      ]
    }
  ]
}