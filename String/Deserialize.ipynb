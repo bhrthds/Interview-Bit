{
  "nbformat": 4,
  "nbformat_minor": 0,
  "metadata": {
    "colab": {
      "name": "Deserialize.ipynb",
      "provenance": []
    },
    "kernelspec": {
      "name": "python3",
      "display_name": "Python 3"
    },
    "language_info": {
      "name": "python"
    }
  },
  "cells": [
    {
      "cell_type": "code",
      "execution_count": null,
      "metadata": {
        "id": "4quagHU6SLhZ"
      },
      "outputs": [],
      "source": [
        "class Solution:\n",
        "    # @param A : string\n",
        "    # @return a list of strings\n",
        "    def deserialize(self, A):\n",
        "        a = list(A.split(\"~\"))\n",
        "        n = len(a)\n",
        "        a = a[0:(n-1)]\n",
        "        l = []\n",
        "        for i in a:\n",
        "            s = ''.join(char for char in i if char.isalpha())\n",
        "            l.append(s)\n",
        "        return l"
      ]
    }
  ]
}