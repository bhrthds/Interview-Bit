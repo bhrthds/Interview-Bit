{
  "nbformat": 4,
  "nbformat_minor": 0,
  "metadata": {
    "colab": {
      "name": "Salute.ipynb",
      "provenance": []
    },
    "kernelspec": {
      "name": "python3",
      "display_name": "Python 3"
    },
    "language_info": {
      "name": "python"
    }
  },
  "cells": [
    {
      "cell_type": "code",
      "execution_count": null,
      "metadata": {
        "id": "4quagHU6SLhZ"
      },
      "outputs": [],
      "source": [
        "class Solution:\n",
        "    # @param A : string\n",
        "     # @return an long\n",
        "    def countSalutes(self, A):\n",
        "        s = 0\n",
        "        s2 = 0\n",
        "        for i in range(len(A)):\n",
        "            if A[i]==\"<\":\n",
        "                s = s+(i-s2)\n",
        "                s2 = s2+1\n",
        "        return s"
      ]
    }
  ]
}