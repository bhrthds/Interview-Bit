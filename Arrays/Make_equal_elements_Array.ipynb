{
  "nbformat": 4,
  "nbformat_minor": 0,
  "metadata": {
    "colab": {
      "name": "Make equal elements Array.ipynb",
      "provenance": []
    },
    "kernelspec": {
      "name": "python3",
      "display_name": "Python 3"
    },
    "language_info": {
      "name": "python"
    }
  },
  "cells": [
    {
      "cell_type": "code",
      "execution_count": null,
      "metadata": {
        "id": "4quagHU6SLhZ"
      },
      "outputs": [],
      "source": [
        "from collections import Counter\n",
        "class Solution:\n",
        "    # @param A : list of integers\n",
        "    # @param B : integer\n",
        "    # @return an integer\n",
        "    def solve(self, A, B):\n",
        "        lenA= len(A)\n",
        "        Aplus1 = [x+B for x in A]\n",
        "        Aminus1 = [x-B for x in A]\n",
        "        all_A = A + Aplus1 + Aminus1\n",
        "        A_Counter = Counter(all_A)\n",
        "        A_Counter_values = A_Counter.values()\n",
        "        if lenA in A_Counter_values:\n",
        "            return 1\n",
        "        else:\n",
        "            return 0 "
      ]
    }
  ]
}