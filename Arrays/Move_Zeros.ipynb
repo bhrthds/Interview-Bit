{
  "nbformat": 4,
  "nbformat_minor": 0,
  "metadata": {
    "colab": {
      "name": "Move Zeros.ipynb",
      "provenance": []
    },
    "kernelspec": {
      "name": "python3",
      "display_name": "Python 3"
    },
    "language_info": {
      "name": "python"
    }
  },
  "cells": [
    {
      "cell_type": "code",
      "execution_count": null,
      "metadata": {
        "id": "4quagHU6SLhZ"
      },
      "outputs": [],
      "source": [
        "import numpy as np\n",
        "from collections import Counter\n",
        "class Solution:\n",
        "    #@param A : list of integers\n",
        "    #@return a list of integers\n",
        "    def solve(self, A):\n",
        "        a = Counter(A)\n",
        "        A = np.array(A)\n",
        "        A = A[A!=0]       #removing all zero from A\n",
        "        A = list(A)\n",
        "        return A+[0]*a[0] #a[0] is the count of all zeros in A"
      ]
    }
  ]
}