{
  "nbformat": 4,
  "nbformat_minor": 0,
  "metadata": {
    "colab": {
      "name": "Array Sum.ipynb",
      "provenance": []
    },
    "kernelspec": {
      "name": "python3",
      "display_name": "Python 3"
    },
    "language_info": {
      "name": "python"
    }
  },
  "cells": [
    {
      "cell_type": "code",
      "execution_count": null,
      "metadata": {
        "id": "4quagHU6SLhZ"
      },
      "outputs": [],
      "source": [
        "class Solution:\n",
        "    # @param A : list of integers\n",
        "    # @param B : list of integers\n",
        "    # @return a list of integers\n",
        "    def addArrays(self, A, B):\n",
        "        a_ss = [str(i) for i in A]\n",
        "        a_s = \"\". join(a_ss)\n",
        "        b_ss = [str(i) for i in B]\n",
        "        b_s = \"\". join(b_ss)\n",
        "\n",
        "        a_s,b_s=int(a_s),int(b_s)\n",
        "        c = a_s+b_s\n",
        "        ouput = list(map(int, str(c)))\n",
        "        return ouput\n"
      ]
    }
  ]
}