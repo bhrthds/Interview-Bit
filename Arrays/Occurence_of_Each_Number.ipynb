{
  "nbformat": 4,
  "nbformat_minor": 0,
  "metadata": {
    "colab": {
      "name": "Occurence of Each Number.ipynb",
      "provenance": []
    },
    "kernelspec": {
      "name": "python3",
      "display_name": "Python 3"
    },
    "language_info": {
      "name": "python"
    }
  },
  "cells": [
    {
      "cell_type": "code",
      "execution_count": null,
      "metadata": {
        "id": "4quagHU6SLhZ"
      },
      "outputs": [],
      "source": [
        "from collections import Counter\n",
        "class Solution:\n",
        "    # @param A : list of integers\n",
        "    # @return a list of integers\n",
        "    def findOccurences(self, A):\n",
        "        a = Counter(A)\n",
        "        sort_set_a=sorted(a)\n",
        "        result = []\n",
        "        for i in range(len(a)):\n",
        "            result.append(a[sort_set_a[i]])\n",
        "        return result"
      ]
    }
  ]
}