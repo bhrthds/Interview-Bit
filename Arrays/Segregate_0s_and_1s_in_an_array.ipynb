{
  "nbformat": 4,
  "nbformat_minor": 0,
  "metadata": {
    "colab": {
      "name": "Segregate 0s and 1s in an array.ipynb",
      "provenance": []
    },
    "kernelspec": {
      "name": "python3",
      "display_name": "Python 3"
    },
    "language_info": {
      "name": "python"
    }
  },
  "cells": [
    {
      "cell_type": "code",
      "execution_count": null,
      "metadata": {
        "id": "4quagHU6SLhZ"
      },
      "outputs": [],
      "source": [
        "from collections import Counter\n",
        "class Solution:\n",
        "    # @param A : list of integers\n",
        "    # @return a list of integers\n",
        "    def solve(self, A):\n",
        "        a = Counter(A)\n",
        "        a0 = a[0]\n",
        "        a1 = a[1]\n",
        "        return [0]*a0+[1]*a1\n"
      ]
    }
  ]
}