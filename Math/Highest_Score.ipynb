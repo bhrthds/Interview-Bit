{
  "nbformat": 4,
  "nbformat_minor": 0,
  "metadata": {
    "colab": {
      "name": "Highest Score.ipynb",
      "provenance": []
    },
    "kernelspec": {
      "name": "python3",
      "display_name": "Python 3"
    },
    "language_info": {
      "name": "python"
    }
  },
  "cells": [
    {
      "cell_type": "code",
      "execution_count": 9,
      "metadata": {
        "id": "4quagHU6SLhZ",
        "colab": {
          "base_uri": "https://localhost:8080/"
        },
        "outputId": "12c01cf9-c356-4764-cad6-146203ac52ab"
      },
      "outputs": [
        {
          "output_type": "stream",
          "name": "stdout",
          "text": [
            "{'Bob': 170, 'Alice': 100}\n",
            "Counter({'Bob': 2, 'Alice': 2})\n",
            "100\n",
            "85.0\n"
          ]
        }
      ],
      "source": [
        "from collections import Counter\n",
        "class Solution:\n",
        "    # @param A : list of list of strings\n",
        "    # @return an integer\n",
        "    def highestScore(self, A):\n",
        "        name = []\n",
        "        marks = []\n",
        "        dic = {}\n",
        "        for i in range(len(A)):\n",
        "            l = A[i]\n",
        "            name.append(l[0])\n",
        "            marks.append(int(l[1]))\n",
        "            if l[0] not in dic:\n",
        "                dic[l[0]] = int(l[1])\n",
        "            else:\n",
        "                dic[l[0]] = dic[l[0]]+int(l[1])\n",
        "        name_c = Counter(name)\n",
        "        for i in dic:\n",
        "            dic[i] = dic[i]/name_c[i]\n",
        "        v = dic.values()\n",
        "        return int(max(v))"
      ]
    },
    {
      "cell_type": "code",
      "source": [
        ""
      ],
      "metadata": {
        "id": "4UF_xZDP80_r"
      },
      "execution_count": null,
      "outputs": []
    }
  ]
}