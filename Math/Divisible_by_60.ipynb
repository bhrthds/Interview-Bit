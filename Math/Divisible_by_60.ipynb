{
  "nbformat": 4,
  "nbformat_minor": 0,
  "metadata": {
    "colab": {
      "name": "Divisible by 60.ipynb",
      "provenance": []
    },
    "kernelspec": {
      "name": "python3",
      "display_name": "Python 3"
    },
    "language_info": {
      "name": "python"
    }
  },
  "cells": [
    {
      "cell_type": "code",
      "execution_count": null,
      "metadata": {
        "id": "4quagHU6SLhZ"
      },
      "outputs": [],
      "source": [
        "class Solution:\n",
        "    # @param A : list of integers\n",
        "    # @return an integer\n",
        "    def divisibleBy60(self, A):\n",
        "        if len(list(set(A)))==1 and 0 in list(set(A)):\n",
        "            return 1\n",
        "        if 0 in A:\n",
        "            A.remove(0)\n",
        "            if (0 in A or 2 in A or 4 in A or 6 in A or 8 in A ) and (sum(A)%3==0):\n",
        "                return 1\n",
        "        return 0  "
      ]
    }
  ]
}