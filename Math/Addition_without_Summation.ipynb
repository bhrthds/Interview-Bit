{
  "nbformat": 4,
  "nbformat_minor": 0,
  "metadata": {
    "colab": {
      "name": "Addition without Summation.ipynb",
      "provenance": []
    },
    "kernelspec": {
      "name": "python3",
      "display_name": "Python 3"
    },
    "language_info": {
      "name": "python"
    }
  },
  "cells": [
    {
      "cell_type": "code",
      "execution_count": null,
      "metadata": {
        "id": "4quagHU6SLhZ"
      },
      "outputs": [],
      "source": [
        "class Solution:\n",
        "    # @param A : integer\n",
        "    # @param B : integer\n",
        "    # @return an integer\n",
        "    def addNumbers(self, A, B):\n",
        "        if B == 0:\n",
        "            return A\n",
        "        elif A==0:\n",
        "            return B\n",
        "        else:\n",
        "            return (A ^ B)+((A & B) << 1)"
      ]
    }
  ]
}